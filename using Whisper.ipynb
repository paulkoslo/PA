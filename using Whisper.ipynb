{
 "cells": [
  {
   "cell_type": "markdown",
   "metadata": {},
   "source": [
    "# 📖 Installing & Using OpenAI Whisper Locally on macOS\n",
    "\n",
    "> Apple‑silicon **or** Intel • Python 3.8 + • ≈ 6 GB free disk\n",
    "\n",
    "---\n",
    "\n",
    "## 0 · Prerequisites  \n",
    "* Python ≥ 3.8 (system, Homebrew, or Conda)  \n",
    "* A terminal app (macOS Terminal, iTerm, or VS Code terminal)\n",
    "\n",
    "---\n",
    "\n",
    "## 1 · Install Homebrew\n",
    "\n",
    "\n",
    "\n",
    "```bash\n",
    "/bin/bash -c \"$(curl -fsSL https://raw.githubusercontent.com/Homebrew/install/HEAD/install.sh)\"\n",
    "```\n",
    "\n",
    "Homebrew finishes with a “Next steps” block—run the three echo … / eval … lines it prints so /opt/homebrew/bin (Apple‑silicon) or /usr/local/bin (Intel) is added to every new shell’s $PATH.\n",
    "\n",
    "## 2. brew install ffmpeg\n",
    "\n",
    "```bash\n",
    "brew install ffmpeg         \n",
    "```\n",
    "\n",
    "```bash\n",
    "ffmpeg -version          # ✅ should print version info\n",
    "```\n",
    "\n",
    "## 3. Install whisper"
   ]
  },
  {
   "cell_type": "code",
   "execution_count": 26,
   "metadata": {},
   "outputs": [
    {
     "name": "stdout",
     "output_type": "stream",
     "text": [
      "Defaulting to user installation because normal site-packages is not writeable\n",
      "Requirement already satisfied: openai-whisper in /Users/paulkoslowsky/Library/Python/3.9/lib/python/site-packages (20240930)\n",
      "Requirement already satisfied: tqdm in /Users/paulkoslowsky/Library/Python/3.9/lib/python/site-packages (from openai-whisper) (4.67.1)\n",
      "Requirement already satisfied: numba in /Users/paulkoslowsky/Library/Python/3.9/lib/python/site-packages (from openai-whisper) (0.60.0)\n",
      "Requirement already satisfied: more-itertools in /Users/paulkoslowsky/Library/Python/3.9/lib/python/site-packages (from openai-whisper) (10.6.0)\n",
      "Requirement already satisfied: torch in /Users/paulkoslowsky/Library/Python/3.9/lib/python/site-packages (from openai-whisper) (2.6.0)\n",
      "Requirement already satisfied: tiktoken in /Users/paulkoslowsky/Library/Python/3.9/lib/python/site-packages (from openai-whisper) (0.9.0)\n",
      "Requirement already satisfied: numpy in /Users/paulkoslowsky/Library/Python/3.9/lib/python/site-packages (from openai-whisper) (1.26.4)\n",
      "Requirement already satisfied: llvmlite<0.44,>=0.43.0dev0 in /Users/paulkoslowsky/Library/Python/3.9/lib/python/site-packages (from numba->openai-whisper) (0.43.0)\n",
      "Requirement already satisfied: requests>=2.26.0 in /Users/paulkoslowsky/Library/Python/3.9/lib/python/site-packages (from tiktoken->openai-whisper) (2.32.3)\n",
      "Requirement already satisfied: regex>=2022.1.18 in /Users/paulkoslowsky/Library/Python/3.9/lib/python/site-packages (from tiktoken->openai-whisper) (2024.11.6)\n",
      "Requirement already satisfied: urllib3<3,>=1.21.1 in /Users/paulkoslowsky/Library/Python/3.9/lib/python/site-packages (from requests>=2.26.0->tiktoken->openai-whisper) (2.2.2)\n",
      "Requirement already satisfied: charset-normalizer<4,>=2 in /Users/paulkoslowsky/Library/Python/3.9/lib/python/site-packages (from requests>=2.26.0->tiktoken->openai-whisper) (3.3.2)\n",
      "Requirement already satisfied: idna<4,>=2.5 in /Users/paulkoslowsky/Library/Python/3.9/lib/python/site-packages (from requests>=2.26.0->tiktoken->openai-whisper) (3.8)\n",
      "Requirement already satisfied: certifi>=2017.4.17 in /Users/paulkoslowsky/Library/Python/3.9/lib/python/site-packages (from requests>=2.26.0->tiktoken->openai-whisper) (2024.8.30)\n",
      "Requirement already satisfied: typing-extensions>=4.10.0 in /Users/paulkoslowsky/Library/Python/3.9/lib/python/site-packages (from torch->openai-whisper) (4.12.2)\n",
      "Requirement already satisfied: fsspec in /Users/paulkoslowsky/Library/Python/3.9/lib/python/site-packages (from torch->openai-whisper) (2025.2.0)\n",
      "Requirement already satisfied: jinja2 in /Users/paulkoslowsky/Library/Python/3.9/lib/python/site-packages (from torch->openai-whisper) (3.1.4)\n",
      "Requirement already satisfied: sympy==1.13.1 in /Users/paulkoslowsky/Library/Python/3.9/lib/python/site-packages (from torch->openai-whisper) (1.13.1)\n",
      "Requirement already satisfied: networkx in /Users/paulkoslowsky/Library/Python/3.9/lib/python/site-packages (from torch->openai-whisper) (3.2.1)\n",
      "Requirement already satisfied: filelock in /Users/paulkoslowsky/Library/Python/3.9/lib/python/site-packages (from torch->openai-whisper) (3.17.0)\n",
      "Requirement already satisfied: mpmath<1.4,>=1.1.0 in /Users/paulkoslowsky/Library/Python/3.9/lib/python/site-packages (from sympy==1.13.1->torch->openai-whisper) (1.3.0)\n",
      "Requirement already satisfied: MarkupSafe>=2.0 in /Users/paulkoslowsky/Library/Python/3.9/lib/python/site-packages (from jinja2->torch->openai-whisper) (2.1.5)\n",
      "\u001b[33mWARNING: You are using pip version 21.2.4; however, version 25.0.1 is available.\n",
      "You should consider upgrading via the '/Library/Developer/CommandLineTools/usr/bin/python3 -m pip install --upgrade pip' command.\u001b[0m\n",
      "Note: you may need to restart the kernel to use updated packages.\n"
     ]
    }
   ],
   "source": [
    "pip install openai-whisper"
   ]
  },
  {
   "cell_type": "markdown",
   "metadata": {},
   "source": [
    "## 4. VS Code Jupyter only: patch the kernel’s PATH\n",
    "ffmpeg is now installed on your mashine but its not yet in the python environment.\n",
    "\n",
    "If a notebook still errors with “No such file or directory: 'ffmpeg'” run:"
   ]
  },
  {
   "cell_type": "code",
   "execution_count": null,
   "metadata": {},
   "outputs": [],
   "source": [
    "import os, shutil\n",
    "\n",
    "# Homebrew puts ffmpeg here on Apple‑silicon Macs.\n",
    "# On Intel Macs it’s \"/usr/local/bin\".  Adjust if `which ffmpeg` shows a different path.\n",
    "brew_ffmpeg_dir = \"/opt/homebrew/bin\"\n",
    "\n",
    "# Patch this notebook’s PATH so Whisper can find the binary\n",
    "os.environ[\"PATH\"] = brew_ffmpeg_dir + os.pathsep + os.environ.get(\"PATH\", \"\")\n",
    "\n",
    "print(\"ffmpeg found at:\", shutil.which(\"ffmpeg\"))   # should print the full path now\n"
   ]
  },
  {
   "cell_type": "markdown",
   "metadata": {},
   "source": [
    "## 5. Run the code for the mp3 file"
   ]
  },
  {
   "cell_type": "code",
   "execution_count": 9,
   "metadata": {},
   "outputs": [],
   "source": [
    "import whisper"
   ]
  },
  {
   "cell_type": "code",
   "execution_count": 2,
   "metadata": {},
   "outputs": [],
   "source": [
    "audio_path = \"/Users/paulkoslowsky/Downloads/Rua Virgínia 2.mp3\"    # ← change this"
   ]
  },
  {
   "cell_type": "code",
   "execution_count": 5,
   "metadata": {},
   "outputs": [
    {
     "name": "stderr",
     "output_type": "stream",
     "text": [
      "/Users/paulkoslowsky/Library/Python/3.9/lib/python/site-packages/whisper/transcribe.py:126: UserWarning: FP16 is not supported on CPU; using FP32 instead\n",
      "  warnings.warn(\"FP16 is not supported on CPU; using FP32 instead\")\n"
     ]
    }
   ],
   "source": [
    "\n",
    "\n",
    "# Load model (options: \"tiny\", \"base\", \"small\", \"medium\", \"large\")\n",
    "model = whisper.load_model(\"base\")\n",
    "# Transcribe audio\n",
    "result = model.transcribe(audio_path)\n",
    "text = result[\"text\"]\n"
   ]
  },
  {
   "cell_type": "code",
   "execution_count": 6,
   "metadata": {},
   "outputs": [
    {
     "data": {
      "text/plain": [
       "\" Okay, alright, the last match start, we'll see on. Okay, hello Justin, nice that you're taking part in our interview today. We are going to talk about on running today and what your perception of the brand is and so on. So, but first of all, we have to find out if you even know on running. So maybe we will just start with a general question. What was like the last time you bought in general's bought a pearl and how did you bought it and bought it with your experience like? Maybe you can't tell me something about that. So start off. Okay, of course. So the last thing I bought in here was actually my new brand shoes. Your book I run in general. I bought my new pair of running shoes. There are some A6 and I bought them online. So you're approaching as a website. Okay, and that sounds really good. That would have been my next question. Which are your experiences with running shoes especially. Can you tell me in general how your experience was with the buying process of the running shoes? The buying process of course, I mean it was pretty easy. And you're the shoe I wanted. So I started like the internet and just went for the cheap assumption. And the other website of the company was pretty straightforward. Just all the shoes. I think it was like a shoe retailer from the brand directly. Okay, yeah, perfect. I think we'll come back to that later. So maybe let's just keep that in mind that you bought new A6 shoes. So I would. So can you tell me a little bit more about your running routine about your general work out routine? How often would you say are you working out or go for run per month or per week? And you're working out in terms of just running or like general. No, also in general. Maybe you can split those two into working out regularly or other sports and on the other way running. I'm starting basically trying to just work six times a week with like one of the. What I do is mainly I'm going to the gym and depending on like the week and the weather is some other sports sessions. Peach volleyball football or pedal right now. I'm probably doing gym four times a week. Not really running but usually when I'm not in the gym. I run three to four times a week. Okay, perfect now starts really good. So you're quite a pro athlete, I would say. So in terms of buying new sports gear. How often do you buy a new workout shoes or clothes? And can you tell me what interests influence your decision if you buy if you buy something? First of all, I would say I'm someone who does not buy like. For the parallel very often, I also not old shoes. I had been way too long. But usually I say like first of the running shoes and anybody wants to hear. And I just bought a parallel like the accuracy. I don't know, you want to choose for a t-shirts after year. Okay, yes. What's interesting is my decisions about that. I'm say I don't know for quality. Usually I don't know, I mean some blogs or like the opinions of people that are more into the parallel sport or market. And just buy what is like, I don't know the best review for the response of the players. Okay, so you would say you are not eager on buying a certain brand. So you're more focused on the quality of the brand about your friends or online reviews, for example, tell you what you say that. Is that what you mean? Yeah, I would say I don't buy based on a brand. I'm always switching the brands as well. Thank you. Imagine like some really hatched with brands, for example, especially something like running shoes where they have to fit really well. Maybe I will go with one brand. It's huge different in the past. It's changed a lot. Okay. And what kind of brands come to your mind when you're telling me that you would buy, for example, the running shoes from one certain brand. Do you have any specific brands in mind for that? Of course, like the classic ones, like Alidus Nike, Tuma, but also like shoes I'm wearing now, like Essex, Oka. Okay. I mean, I also know all my friends very well. So I'm also going to think about the running shoes. Okay. So maybe let's just stay with the first names you just told me. Could you tell me, could you categorize them in some way? Like you just named me Nike on Hookah Alidus Bruges, a little lemon. I think you told me about Essex. Maybe you could tell me more about these brands and what comes to your mind when you think about them. You do have to maybe just pick out two or three. So we will keep that a little bit shorter, but just one or two sentences to each brand. Um, tough question to be honest, but I try to answer it. What comes to my mind when I think of, okay, let's say, let's say Essex. So Essex, I've known like from when I was young, I was doing like trick students or like sprinting and stuff. And the main company there or the main brand was Essex for like specific running shoes. So I feel like it's a very pro pro brand for me. So like the athletes were okay. I don't know if that answers the question. No, sure. No, that's Essex. He wanted to hear. So, so now jumping to on what how uncompairs, for example, to Essex for you or how would you compare it to? To your shoes? I mean, first of all, you could tell me that let's start with that. Did you ever tried on running shoes from on or did you ever try something something from Ron? It doesn't have to be running shoes just in general. I think I've never tried shoes from on or any clothing from on. I'm just experiencing like through friends. Okay, okay. Since like on is a drive from I think it is Switzerland right? Sorry, can you repeat that? I mean since on is from Switzerland, it's a mistake. No, it's from Switzerland, exactly. I thought should like good quality I guess with them so that they are not like some cheap nice market shoes would rather like a quality running shoes. Okay, no, no, sounds good. In general, could you maybe compare it to Essex? If you just about your perception of the brand, maybe you just told me that you liked them for their quality or that you perceived them as a qualitative product. Is there anything else that you can compare to your current running shoes? I mean since I'm not dead into on I'd really like have to go with like gut feeling which would stand in I don't know. For example ethics for me feels a bit like it's a bit more fast but more athletic. Where is life on? I don't know. Just like based on about gut feeling. Is it a bit more like the ones that they give you more than agile and fast than sporties as things do you think? Okay, okay, no, I get that. In general, then let's jump completely to the on brand in general. So what type of athletes or consumers do you think that would wear on if you describe them as more comfortable, more relaxing, not that fast paced? Yeah. Sorry, can you repeat the question? Yeah. What type of athletes or consumers do you think were the on brand? We think for a few seconds. In the honest, I've no idea that there's like a difficult consumer group that wears on. I would say they are not like as mainstream as for example Nike or Adidas. But I guess that people are more into running. Maybe they're on. But other than that, I have no idea to be honest. Okay, now that's completely fine. That's a good opinion. We can use that for later. So in general, could you just tell me three words that come to your mind when you think about on running? You're giving me a second? No, I'm complying. It's like this comment on thank you. I won't say. You won. Okay, young, innovative. And I call it. Okay, yeah, that's perfect. So I know you're not completely familiar with on. But do you? Okay, maybe let me just check the questions. In general, would you consider on as an innovative brand? Yeah, I would think so. Okay, okay. Good. So did you heard about the on community or on community runs? For example, on has like you know, on is available. A lot of running stories. And usually these running stores have community runs, for example, with people like a run club or something like that. And on also does them. And they for example, they give the people free running shoes to run with them. What do you think about that? Did you heard ever ever about that? And maybe did you ever take part in running club like that? From on. The question I've actually seen an Instagram post of the run club I used to run with. I think it was a trend for. And they also did like a post with an corporation with on where I said like, yeah, they're hosting like an on run. And you can basically use on shoes for the run, like just for this run. From trying to move. Which I think is like a really cool thing. It's like especially run our communities in general. A really cool and like combining that with a brand and the brand actually getting something back to the people. Sounds pretty good to me. Okay. And what that is that something you would include in your next buying decision of running shoe like the emotional connection to the brand on. Like is this is something we would make you feel like maybe I have to try these running shoes from on. To be honest, yes, I think that something I wouldn't include into my buying decision. Like especially if I take part in such a run try this to. And I don't know like I really enjoy the run. The shoes are good. The human is good. I think that something that could persuade me into buying a bunch of this future. Okay. So at least that's something you think that is really good from on running. Is there anything? Is there anything what? Things you what makes you think that we're on running or we're on running is worse than other brands. Oh, I mean, maybe since I'm a familiar with them as with other brands. They could work on their promotion. But I couldn't say you have just been from the fact that I don't know them as well. Maybe they could try to get the right exposure. Okay, so they need to know the thing. Okay, then just in general, who do you think are the top three brands in the running shoe market at the moment? And also why you think so? I think I have to go with Nike first of all there because like many influencers I see. I can buy and customize their night shoes. Second about probably also Adidas. So they're one of the biggest players in the market. I feel like I've seen a lot of people running with their shoes. And yeah, who's the number three? Who's being the first few seconds? Yeah, I don't know to be honest, maybe too now. I mean, I just know like I think Essex is not as big as it was in the house. I feel like two might be like a good content or in the nation's being like one of the top three. Okay, yeah. Okay, now that's fine. I noted that. Maybe let's move back to on for the final questions. Just in general, did you ever check the website from on? Yes, I've visited this like when I thought about buying my new shoes. Okay, okay, that's perfect. So how was their experience with it? Did you find what you were looking for? Was it easy on and how you perceive the website? I remember correctly the website was okay. But I think like it was not the best website I've seen so far. I was a bit not always into my tips to navigate there. And sometimes it was a bit more difficult to navigate to where you want to go compared to other websites. Okay, okay, so you didn't find that thing you that running shoe you wanted to find, I guess? No, not really. Okay, okay, I know that. And also, how did you perceive the last marketing campaigns from on? Yeah, you just told me that they don't that you don't that you think they need more marketing. But did you saw any of the recent marketing campaigns from them? Are they not visible for you on your page? Yeah, not really. I didn't get much exposure to their promotion efforts. The only things I do remember is like there's one folder of this one running club and cooperation. And that's basically it. Okay, okay, okay. But then then last question. Do you know any role models or brand ambassadors from on? Brand investors on. Yeah, no, I don't know anything because of the fun. Okay, okay. Yeah, that's fine. Thanks a lot. I'm done with my over my interview. Do you have any final thoughts on on on running in general? Anything you want us we want to say or any final thoughts? I mean, since I don't know that much about the brand, maybe I definitely just to give the try try it out. Okay, I'm still planning on running lots in the future. So it would be good to try some of the brands. Okay, yeah, perfect. Thanks Justin a lot for your time and then see you. See you in the class. Bye bye. Oh, you're going to say.\""
      ]
     },
     "execution_count": 6,
     "metadata": {},
     "output_type": "execute_result"
    }
   ],
   "source": [
    "text"
   ]
  }
 ],
 "metadata": {
  "kernelspec": {
   "display_name": "Python 3",
   "language": "python",
   "name": "python3"
  },
  "language_info": {
   "codemirror_mode": {
    "name": "ipython",
    "version": 3
   },
   "file_extension": ".py",
   "mimetype": "text/x-python",
   "name": "python",
   "nbconvert_exporter": "python",
   "pygments_lexer": "ipython3",
   "version": "3.9.6"
  }
 },
 "nbformat": 4,
 "nbformat_minor": 2
}
