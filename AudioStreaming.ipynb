{
 "cells": [
  {
   "cell_type": "code",
   "execution_count": null,
   "metadata": {
    "vscode": {
     "languageId": "plaintext"
    }
   },
   "outputs": [],
   "source": [
    "import whisper\n",
    "import numpy as np\n",
    "import queue\n",
    "import threading\n",
    "import pyaudio\n",
    "import time\n",
    "\n",
    "# Load Whisper model\n",
    "model = whisper.load_model(\"base\")\n",
    "\n",
    "# Setup audio parameters\n",
    "CHUNK = 1024\n",
    "FORMAT = pyaudio.paInt16\n",
    "CHANNELS = 1\n",
    "RATE = 16000\n",
    "RECORD_SECONDS = 3  # Process in 3-second chunks\n",
    "\n",
    "# Initialize PyAudio\n",
    "p = pyaudio.PyAudio()\n",
    "audio_queue = queue.Queue()\n",
    "\n",
    "# Open stream\n",
    "stream = p.open(format=FORMAT,\n",
    "                channels=CHANNELS,\n",
    "                rate=RATE,\n",
    "                input=True,\n",
    "                frames_per_buffer=CHUNK)\n",
    "\n",
    "def process_audio():\n",
    "    while True:\n",
    "        if not audio_queue.empty():\n",
    "            audio_data = audio_queue.get()\n",
    "            # Convert audio to the format Whisper expects\n",
    "            audio_np = np.frombuffer(audio_data, dtype=np.int16).astype(np.float32) / 32768.0\n",
    "            \n",
    "            # Process with Whisper\n",
    "            result = model.transcribe(audio_np)\n",
    "            print(f\"Transcription: {result['text']}\")\n",
    "\n",
    "# Start processing thread\n",
    "threading.Thread(target=process_audio, daemon=True).start()\n",
    "\n",
    "# Main recording loop\n",
    "try:\n",
    "    print(\"* Recording started - speak into the microphone\")\n",
    "    while True:\n",
    "        # Collect audio for RECORD_SECONDS\n",
    "        frames = []\n",
    "        for _ in range(0, int(RATE / CHUNK * RECORD_SECONDS)):\n",
    "            data = stream.read(CHUNK)\n",
    "            frames.append(data)\n",
    "        \n",
    "        # Put audio chunk in queue for processing\n",
    "        audio_queue.put(b''.join(frames))\n",
    "        \n",
    "except KeyboardInterrupt:\n",
    "    print(\"* Recording stopped\")\n",
    "\n",
    "# Clean up\n",
    "stream.stop_stream()\n",
    "stream.close()\n",
    "p.terminate()"
   ]
  }
 ],
 "metadata": {
  "language_info": {
   "name": "python"
  }
 },
 "nbformat": 4,
 "nbformat_minor": 2
}
